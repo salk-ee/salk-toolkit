{
 "cells": [
  {
   "cell_type": "markdown",
   "metadata": {},
   "source": [
    "# Validation\n",
    "> Builds up to a function that validates metadata annotations"
   ]
  },
  {
   "cell_type": "code",
   "execution_count": 1,
   "metadata": {},
   "outputs": [],
   "source": [
    "#| default_exp validation"
   ]
  },
  {
   "cell_type": "code",
   "execution_count": 2,
   "metadata": {},
   "outputs": [],
   "source": [
    "#| hide\n",
    "from nbdev.showdoc import *\n",
    "from fastcore.test import *"
   ]
  },
  {
   "cell_type": "code",
   "execution_count": 3,
   "metadata": {},
   "outputs": [],
   "source": [
    "#| exporti\n",
    "\n",
    "import numpy as np\n",
    "from typing import *\n",
    "from pydantic import BaseModel, ConfigDict, model_validator, BeforeValidator\n",
    "from salk_toolkit.utils import replace_constants"
   ]
  },
  {
   "cell_type": "markdown",
   "metadata": {},
   "source": [
    "# Pydantic type declarations"
   ]
  },
  {
   "cell_type": "code",
   "execution_count": 4,
   "metadata": {},
   "outputs": [],
   "source": [
    "#| exporti\n",
    "\n",
    "# Define a new base that is more strict towards unknown inputs\n",
    "class PBase(BaseModel):\n",
    "    model_config = ConfigDict(extra='forbid', protected_namespaces=(),arbitrary_types_allowed=True)"
   ]
  },
  {
   "cell_type": "code",
   "execution_count": 5,
   "metadata": {},
   "outputs": [],
   "source": [
    "#| exporti \n",
    "\n",
    "class ColumnMeta(PBase):\n",
    "\n",
    "    # Type specification\n",
    "    continuous: bool = False # For real numbers\n",
    "    datetime: bool = False # For datetimes\n",
    "    categories: Optional[Union[List,Literal['infer']]] = None # For categoricals: List of categories or 'infer'\n",
    "    ordered: bool = False # If categorical data is ordered\n",
    "\n",
    "    # Transformations\n",
    "    translate: Optional[Dict] = None # Translate dict applied to categories\n",
    "    transform: Optional[str] = None # Transform function in python code, applied after translate\n",
    "    translate_after: Optional[Dict] = None # Same as translate, but applied after transform\n",
    "\n",
    "    # Model extras\n",
    "    modifiers: Optional[List[str]] = None # List of columns that are meant to modify the responses on this col -> private_inputs\n",
    "    nonresponses: Optional[List] = None # List of categories that are non-responses (Like \"Don't know\") -> unordered_categories \n",
    "\n",
    "    # Plot pipeline extras\n",
    "    label: Optional[str] = None # Longer description of the column for tooltips\n",
    "    groups: Optional[Dict[str,List[str]]] = None # Dict of lists of category values defining groups for easier filtering\n",
    "    colors: Optional[Dict[str,str]] = None # Dict matching colors to categories\n",
    "    num_values: Optional[List[Union[float,None]]] = None # For categoricals - how to convert the categories to numbers\n",
    "    likert: bool = False # For ordered categoricals - if they are likert-type (i.e. symmetric around center)\n",
    "    topo_feature: Optional[List[str]] = None # Link to a geojson/topojson [url,type,col_name inside geodata]\n",
    "    electoral_system: Optional[Dict] = None # Information about electoral system (TODO: spec it out)\n",
    "    mandates: Optional[Dict] = None # Mandate count mapping for the electoral system\n",
    "\n",
    "    @model_validator(mode='after')\n",
    "    def check_categorical(self) -> Self:\n",
    "        if self.categories is None:\n",
    "            #if not self.continuous and not self.datetime:\n",
    "            #    raise ValueError('Column type undefined: need either categories, continuous or datetime')\n",
    "            for f in ['ordered','groups','colors','num_values','likert','topo_feature']: # ['ordered']\n",
    "                if getattr(self,f):\n",
    "                    raise ValueError(f'Field {f} only makes sense for categorical columns {getattr(self,f)}')\n",
    "        else: # Is categorical\n",
    "            if not self.ordered:\n",
    "                for f in ['likert','num_values']:\n",
    "                    if getattr(self,f):\n",
    "                        raise ValueError(f'Field {f} only makes sense for ordered categorical columns')\n",
    "        return self\n",
    "\n",
    "\n",
    "# This is for the block-level 'scale' group - basically same as ColumnMeta but with a few extras\n",
    "class BlockScaleMeta(ColumnMeta):\n",
    "\n",
    "    # Only useful in 'scale' block\n",
    "    col_prefix: Optional[str] = None # If column name should have the prefix added. Usually used in scale block\n",
    "    question_colors: Optional[Dict[str,str]] = None # Dict mapping columns to different colors\n"
   ]
  },
  {
   "cell_type": "code",
   "execution_count": 6,
   "metadata": {},
   "outputs": [],
   "source": [
    "#| exporti\n",
    "\n",
    "# Transform the column tuple to (new name, old name, meta) format\n",
    "def cspec(tpl):\n",
    "    if type(tpl)==list:\n",
    "        cn = tpl[0] # column name\n",
    "        sn = tpl[1] if len(tpl)>1 and type(tpl[1])==str else cn # source column\n",
    "        o_cd = tpl[2] if len(tpl)==3 else tpl[1] if len(tpl)==2 and type(tpl[1])==dict else {} # metadata\n",
    "    else:\n",
    "        cn = sn = tpl\n",
    "        o_cd = {}\n",
    "    return [cn,sn,o_cd]\n",
    "\n",
    "# Transform list to dict for better error readability\n",
    "def cs_lst_to_dict(lst):\n",
    "    return { cn: [ocn,meta] for cn,ocn,meta in map(cspec,lst) }\n",
    "\n",
    "ColSpec = Annotated[Dict[str,Tuple[str,ColumnMeta]],BeforeValidator(cs_lst_to_dict)]"
   ]
  },
  {
   "cell_type": "code",
   "execution_count": 7,
   "metadata": {},
   "outputs": [],
   "source": [
    "#| exporti\n",
    "\n",
    "class ColumnBlockMeta(PBase):\n",
    "    name: str # Name of the block\n",
    "    scale: Optional[BlockScaleMeta] = None # Shared column meta for all columns inside the block\n",
    "    \n",
    "    # List of columns, potentially with their ColummnMetas\n",
    "    columns: ColSpec\n",
    "\n",
    "    subgroup_transform: Optional[str] = None # A block-level transform performed after column level transformations\n",
    "\n",
    "    # Block level flags\n",
    "    generated: bool = False # This block is for data that is generated, i.e. not initially in the file. \n",
    "    hidden: bool = False # Use this to hide the block in explorer.py\n",
    "    virtual: bool = False # This block is for the virtual pass (i.e. works on already sampled data)"
   ]
  },
  {
   "cell_type": "code",
   "execution_count": 8,
   "metadata": {},
   "outputs": [],
   "source": [
    "#| exporti \n",
    "\n",
    "# Again, convert list to dict for easier debugging in case errors get thrown\n",
    "def cb_lst_to_dict(lst): return { c['name']:c for c in lst }\n",
    "BlockSpec = Annotated[Dict[str,ColumnBlockMeta],BeforeValidator(cb_lst_to_dict)]"
   ]
  },
  {
   "cell_type": "code",
   "execution_count": 9,
   "metadata": {},
   "outputs": [],
   "source": [
    "#| export\n",
    "\n",
    "class FileDesc(PBase):\n",
    "    file: str\n",
    "    opts: Optional[Dict] = None\n",
    "\n",
    "class DataMeta(PBase):\n",
    "\n",
    "    # Single input file\n",
    "    file: Optional[str] = None # Name of the file, with relative path from this json file\n",
    "    read_opts: Optional[Dict] = None # Additional options to pass to reading function\n",
    "\n",
    "    # Multiple files\n",
    "    files: Optional[List[FileDesc]] = None\n",
    "\n",
    "     # Main meat of data annotations\n",
    "    structure: BlockSpec\n",
    "\n",
    "    # A set of values that can be referenced in the file below\n",
    "    constants: Optional[Dict] = None\n",
    "\n",
    "    # Different global processing steps\n",
    "    preprocessing: Optional[str] = None # Performed on raw data\n",
    "    postprocessing: Optional[str] = None # Performed after columns and blocks have been processed\n",
    "    virtual_preprocessing: Optional[str] = None # Same as preprocessing, but only in virtual step\n",
    "    virtual_postprocessing: Optional[str] = None # Same as postprocessing, but only in virtual step\n",
    "\n",
    "    # List of data points that should be excluded in alyses\n",
    "    excluded: List[Tuple[int,str]] = [] # Index of row + str  reason for exclusion\n",
    "\n",
    "    @model_validator(mode='before')\n",
    "    @classmethod\n",
    "    def replace_constants(cls, meta: Any) -> Any:\n",
    "        return replace_constants(meta)\n",
    "\n",
    "    @model_validator(mode='after')\n",
    "    def check_file(self) -> Self:\n",
    "        if self.file is None and self.files is None:\n",
    "            raise ValueError(\"One of 'file' or 'files' has to be provided\")\n"
   ]
  },
  {
   "cell_type": "code",
   "execution_count": 10,
   "metadata": {},
   "outputs": [],
   "source": [
    "#| export\n",
    "\n",
    "def hard_validate(m):\n",
    "    DataMeta.validate(m)\n",
    "\n",
    "def soft_validate(m):\n",
    "    try:\n",
    "        DataMeta.validate(m)\n",
    "    except ValueError as e:\n",
    "        print(e)"
   ]
  },
  {
   "cell_type": "code",
   "execution_count": 11,
   "metadata": {},
   "outputs": [],
   "source": [
    "import json\n",
    "with open('../../sandbox/germany/data/fes_de_2024.json') as jf:\n",
    "    m = json.load(jf)\n",
    "soft_validate(m)"
   ]
  }
 ],
 "metadata": {
  "kernelspec": {
   "display_name": "salk",
   "language": "python",
   "name": "python3"
  },
  "language_info": {
   "codemirror_mode": {
    "name": "ipython",
    "version": 3
   },
   "file_extension": ".py",
   "mimetype": "text/x-python",
   "name": "python",
   "nbconvert_exporter": "python",
   "pygments_lexer": "ipython3",
   "version": "3.12.2"
  }
 },
 "nbformat": 4,
 "nbformat_minor": 4
}
